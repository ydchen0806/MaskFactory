{
 "cells": [
  {
   "cell_type": "markdown",
   "metadata": {},
   "source": [
    "### MasaCtrl: Tuning-free Mutual Self-Attention Control for Consistent Image Synthesis and Editing"
   ]
  },
  {
   "cell_type": "code",
   "execution_count": 1,
   "metadata": {},
   "outputs": [
    {
     "name": "stderr",
     "output_type": "stream",
     "text": [
      "/usr/local/lib/python3.8/dist-packages/requests/__init__.py:109: RequestsDependencyWarning: urllib3 (2.2.2) or chardet (5.2.0)/charset_normalizer (3.1.0) doesn't match a supported version!\n",
      "  warnings.warn(\n"
     ]
    }
   ],
   "source": [
    "import os\n",
    "import torch\n",
    "import torch.nn as nn\n",
    "import torch.nn.functional as F\n",
    "\n",
    "import numpy as np\n",
    "\n",
    "from tqdm import tqdm\n",
    "from einops import rearrange, repeat\n",
    "from omegaconf import OmegaConf\n",
    "\n",
    "from diffusers import DDIMScheduler\n",
    "\n",
    "from masactrl.diffuser_utils import MasaCtrlPipeline\n",
    "from masactrl.masactrl_utils import AttentionBase\n",
    "from masactrl.masactrl_utils import regiter_attention_editor_diffusers\n",
    "\n",
    "from torchvision.utils import save_image\n",
    "from torchvision.io import read_image\n",
    "from pytorch_lightning import seed_everything\n",
    "\n",
    "torch.cuda.set_device(1)  # set the GPU device"
   ]
  },
  {
   "cell_type": "markdown",
   "metadata": {},
   "source": [
    "#### Model Construction"
   ]
  },
  {
   "cell_type": "code",
   "execution_count": 2,
   "metadata": {},
   "outputs": [],
   "source": [
    "# Note that you may add your Hugging Face token to get access to the models\n",
    "device = torch.device(\"cuda\") if torch.cuda.is_available() else torch.device(\"cpu\")\n",
    "# model_path = \"xyn-ai/anything-v4.0\"\n",
    "# model_path = \"CompVis/stable-diffusion-v1-4\"\n",
    "# model_path = \"runwayml/stable-diffusion-v1-5\"\n",
    "# model_path = '/h3cstore_ns/DatasetDM/SD_2.1'\n",
    "model_path = '/h3cstore_ns/ydchen/code/DatasetDM/weights/SD1.4'\n",
    "# model_path = \"/h3cstore_ns/DatasetDM/SDXL\"\n",
    "scheduler = DDIMScheduler(beta_start=0.00085, beta_end=0.012, beta_schedule=\"scaled_linear\", clip_sample=False, set_alpha_to_one=False)\n",
    "model = MasaCtrlPipeline.from_pretrained(model_path, scheduler=scheduler).to(device)"
   ]
  },
  {
   "cell_type": "markdown",
   "metadata": {},
   "source": [
    "#### Real editing with MasaCtrl"
   ]
  },
  {
   "cell_type": "code",
   "execution_count": 8,
   "metadata": {},
   "outputs": [
    {
     "name": "stderr",
     "output_type": "stream",
     "text": [
      "Global seed set to 42\n"
     ]
    },
    {
     "name": "stdout",
     "output_type": "stream",
     "text": [
      "input text embeddings : torch.Size([1, 77, 768])\n",
      "latents shape:  torch.Size([1, 4, 64, 64])\n",
      "Valid timesteps:  tensor([  1,  13,  25,  37,  49,  61,  73,  85,  97, 109, 121, 133, 145, 157,\n",
      "        169, 181, 193, 205, 217, 229, 241, 253, 265, 277, 289, 301, 313, 325,\n",
      "        337, 349, 361, 373, 385, 397, 409, 421, 433, 445, 457, 469, 481, 493,\n",
      "        505, 517, 529, 541, 553, 565, 577, 589, 601, 613, 625, 637, 649, 661,\n",
      "        673, 685, 697, 709, 721, 733, 745, 757, 769, 781, 793, 805, 817, 829,\n",
      "        841, 853, 865, 877, 889, 901, 913, 925, 937, 949])\n"
     ]
    },
    {
     "name": "stderr",
     "output_type": "stream",
     "text": [
      "DDIM Inversion:   0%|          | 0/80 [00:00<?, ?it/s]"
     ]
    },
    {
     "name": "stderr",
     "output_type": "stream",
     "text": [
      "DDIM Inversion: 100%|██████████| 80/80 [00:11<00:00,  7.09it/s]\n"
     ]
    },
    {
     "name": "stdout",
     "output_type": "stream",
     "text": [
      "input text embeddings : torch.Size([1, 77, 768])\n",
      "latents shape:  torch.Size([1, 4, 64, 64])\n"
     ]
    },
    {
     "name": "stderr",
     "output_type": "stream",
     "text": [
      "DDIM Sampler: 100%|██████████| 80/80 [00:11<00:00,  7.08it/s]\n"
     ]
    },
    {
     "name": "stdout",
     "output_type": "stream",
     "text": [
      "MasaCtrl at denoising steps:  [4, 5, 6, 7, 8, 9, 10, 11, 12, 13, 14, 15, 16, 17, 18, 19, 20, 21, 22, 23, 24, 25, 26, 27, 28, 29, 30, 31, 32, 33, 34, 35, 36, 37, 38, 39, 40, 41, 42, 43, 44, 45, 46, 47, 48, 49]\n",
      "MasaCtrl at U-Net layers:  [10, 11, 12, 13, 14, 15]\n",
      "input text embeddings : torch.Size([2, 77, 768])\n",
      "latents shape:  torch.Size([2, 4, 64, 64])\n"
     ]
    },
    {
     "name": "stderr",
     "output_type": "stream",
     "text": [
      "DDIM Sampler:  80%|████████  | 40/50 [00:09<00:02,  4.34it/s]"
     ]
    }
   ],
   "source": [
    "from masactrl.masactrl import MutualSelfAttentionControl\n",
    "from torchvision.io import read_image\n",
    "\n",
    "\n",
    "def load_image(image_path, device):\n",
    "    image = read_image(image_path)\n",
    "    # deal with 1 channel image\n",
    "    if image.shape[0] == 1:\n",
    "        image = image.repeat(3, 1, 1)\n",
    "    image = image[:3].unsqueeze_(0).float() / 127.5 - 1.  # [-1, 1]\n",
    "    image = F.interpolate(image, (512, 512))\n",
    "    image = image.to(device)\n",
    "    return image\n",
    "\n",
    "\n",
    "seed = 42\n",
    "seed_everything(seed)\n",
    "\n",
    "out_dir = \"/data/ydchen/VLP/MasaCtrl/edit_mask_0807/\"\n",
    "os.makedirs(out_dir, exist_ok=True)\n",
    "sample_count = len(os.listdir(out_dir))\n",
    "out_dir = os.path.join(out_dir, f\"sample_{sample_count}\")\n",
    "os.makedirs(out_dir, exist_ok=True)\n",
    "\n",
    "# source image\n",
    "# SOURCE_IMAGE_PATH = \"/data/ydchen/VLP/MasaCtrl/gradio_app/images/corgi.jpg\"\n",
    "SOURCE_IMAGE_PATH = \"/data/ydchen/VLP/MasaCtrl/图片1.png\"\n",
    "source_image = load_image(SOURCE_IMAGE_PATH, device)\n",
    "\n",
    "source_prompt = \"\"\n",
    "# target_prompt = \"a photo of a running corgi\"\n",
    "# target_prompt = \"A binary image of A square birdcage\"\n",
    "# target_prompt = \"A binary image of Two long park chairs placed opposite each other\"\n",
    "target_prompt = 'A chair with a rear-facing back'\n",
    "prompts = [source_prompt, target_prompt]\n",
    "with torch.no_grad():\n",
    "    # invert the source image\n",
    "    start_code, latents_list = model.invert(source_image,\n",
    "                                            source_prompt,\n",
    "                                            guidance_scale=7.5,\n",
    "                                            num_inference_steps=80,\n",
    "                                            return_intermediates=True)\n",
    "    start_code = start_code.expand(len(prompts), -1, -1, -1)\n",
    "\n",
    "    # results of direct synthesis\n",
    "    editor = AttentionBase()\n",
    "    regiter_attention_editor_diffusers(model, editor)\n",
    "    image_fixed = model([target_prompt],\n",
    "                        latents=start_code[-1:],\n",
    "                        num_inference_steps=80,\n",
    "                        guidance_scale=7.5)\n",
    "\n",
    "    # inference the synthesized image with MasaCtrl\n",
    "    STEP = 4\n",
    "    LAYPER = 10\n",
    "\n",
    "    # hijack the attention module\n",
    "    editor = MutualSelfAttentionControl(STEP, LAYPER)\n",
    "    regiter_attention_editor_diffusers(model, editor)\n",
    "\n",
    "    # inference the synthesized image\n",
    "    image_masactrl = model(prompts,\n",
    "                        latents=start_code,\n",
    "                        guidance_scale=7.5)\n",
    "    # Note: querying the inversion intermediate features latents_list\n",
    "    # may obtain better reconstruction and editing results\n",
    "    # image_masactrl = model(prompts,\n",
    "    #                        latents=start_code,\n",
    "    #                        guidance_scale=7.5,\n",
    "    #                        ref_intermediate_latents=latents_list)\n",
    "\n",
    "    # save the synthesized image\n",
    "    out_image = torch.cat([source_image * 0.5 + 0.5,\n",
    "                        image_masactrl[0:1],\n",
    "                        image_fixed,\n",
    "                        image_masactrl[-1:]], dim=0)\n",
    "    save_image(out_image, os.path.join(out_dir, f\"all_step{STEP}_layer{LAYPER}.png\"))\n",
    "    save_image(out_image[0], os.path.join(out_dir, f\"source_step{STEP}_layer{LAYPER}.png\"))\n",
    "    save_image(out_image[1], os.path.join(out_dir, f\"reconstructed_source_step{STEP}_layer{LAYPER}.png\"))\n",
    "    save_image(out_image[2], os.path.join(out_dir, f\"without_step{STEP}_layer{LAYPER}.png\"))\n",
    "    save_image(out_image[3], os.path.join(out_dir, f\"masactrl_step{STEP}_layer{LAYPER}.png\"))\n",
    "\n",
    "    print(\"Syntheiszed images are saved in\", out_dir)"
   ]
  },
  {
   "cell_type": "code",
   "execution_count": 4,
   "metadata": {},
   "outputs": [
    {
     "data": {
      "text/plain": [
       "1.3333333333333333"
      ]
     },
     "execution_count": 4,
     "metadata": {},
     "output_type": "execute_result"
    }
   ],
   "source": [
    "1024/768"
   ]
  },
  {
   "cell_type": "code",
   "execution_count": 5,
   "metadata": {},
   "outputs": [
    {
     "data": {
      "text/plain": [
       "1.776889"
      ]
     },
     "execution_count": 5,
     "metadata": {},
     "output_type": "execute_result"
    }
   ],
   "source": [
    "1.333**2"
   ]
  },
  {
   "cell_type": "code",
   "execution_count": 1,
   "metadata": {},
   "outputs": [
    {
     "name": "stdout",
     "output_type": "stream",
     "text": [
      "5470 5470 5470 5470 5470\n"
     ]
    }
   ],
   "source": [
    "from glob import glob\n",
    "\n",
    "len_a = len(glob('/h3cstore_ns/ydchen/mask_editting3090_binary_0326/reconstructed/*'))\n",
    "len_b = len(glob('/h3cstore_ns/ydchen/mask_editting3090_binary_0326/source/*'))\n",
    "len_c = len(glob('/h3cstore_ns/ydchen/mask_editting3090_binary_0326/with_masactrl/*'))\n",
    "len_d = len(glob('/h3cstore_ns/ydchen/mask_editting3090_binary_0326/without_masactrl/*'))\n",
    "len_e = len(glob('/h3cstore_ns/ydchen/mask_editting3090_binary_0326/concat_image/*'))\n",
    "print(len_a, len_b, len_c, len_d, len_e)"
   ]
  },
  {
   "cell_type": "code",
   "execution_count": null,
   "metadata": {},
   "outputs": [],
   "source": [
    "class Attention(nn.Module):\n",
    "    def __init__(self, dim, heads = 8, dim_head = 64):\n",
    "        super().__init__()\n",
    "        inner_dim = dim_head * heads\n",
    "        self.heads = heads\n",
    "        self.scale = dim_head ** -0.5\n",
    "\n",
    "        self.to_qkv = nn.Linear(dim, inner_dim * 3, bias = False)\n",
    "        self.to_out = nn.Linear(inner_dim, dim)\n",
    "\n",
    "    def forward(self, x):\n",
    "        b, n, _, h = *x.shape, self.heads\n",
    "        qkv = self.to_qkv(x).chunk(3, dim = -1)\n",
    "        q, k, v = map(lambda t: rearrange(t, 'b n (h d) -> b h n d', h = h), qkv)\n",
    "\n",
    "        dots = torch.einsum('bhid,bhjd->bhij', q, k) * self.scale\n",
    "        attn = dots.softmax(dim=-1)\n",
    "\n",
    "        out = torch.einsum('bhij,bhjd->bhid', attn, v)\n",
    "        out = rearrange(out, 'b h n d -> b n (h d)')\n",
    "        return self.to_out(out)\n",
    "    \n",
    "class TransformerBlock(nn.Module):\n",
    "    def __init__(self, dim, heads, dim_head, mlp_dim, dropout = 0.):\n",
    "        super().__init__()\n",
    "        self.attention = Attention(dim, heads = heads, dim_head = dim_head)\n",
    "        self.mlp = nn.Sequential(\n",
    "            nn.Linear(dim, mlp_dim),\n",
    "            nn.GELU(),\n",
    "            nn.Linear(mlp_dim, dim),\n",
    "            nn.Dropout(dropout)\n",
    "        )\n",
    "\n",
    "    def forward(self, x):\n",
    "        x = x + self.attention(x)\n",
    "        x = x + self.mlp(x)\n",
    "        return x\n",
    "    \n",
    "class WindowAttention(nn.Module):\n",
    "    def __init__(self, dim, heads = 8, dim_head = 64, window_size = 7, relative_pos_embedding = False):\n",
    "        super().__init__()\n",
    "        self.dim_head = dim_head\n",
    "        inner_dim = dim_head * heads\n",
    "        self.heads = heads\n",
    "        self.scale = dim_head ** -0.5\n",
    "\n",
    "        self.to_qkv = nn.Linear(dim, inner_dim * 3, bias = False)\n",
    "        self.to_out = nn.Linear(inner_dim, dim)\n",
    "\n",
    "        self.window_size = window_size\n",
    "\n",
    "        if relative_pos_embedding:\n",
    "            self.relative_position_bias = nn.Parameter(torch.randn((2 * window_size - 1) ** 2, heads))\n",
    "\n",
    "    def forward(self, x):\n",
    "        b, n, _, h, window_size = *x.shape, self.heads, self.window_size\n",
    "        assert n >= window_size, 'window size must be less than or equal to sequence length'\n",
    "\n",
    "        qkv = self.to_qkv(x).chunk(3, dim = -1)\n",
    "        q, k, v = map(lambda t: rearrange(t, 'b n (h d) -> b h n d', h = h), qkv)\n",
    "\n",
    "        dots = torch.einsum('bhid,bhjd->bhij', q, k) * self.scale\n",
    "\n",
    "        if hasattr(self, 'relative_position_bias'):\n",
    "            rel_pos = self.relative_position_bias\n",
    "            rel_pos = rearrange(rel_pos, 'n d -> () () n d')\n",
    "            rel_pos = F.pad(rel_pos, (0, 0, 0, n - window_size), value = 0)\n",
    "            rel_pos = rearrange(rel_pos, '() () (h d) -> 1 1 h d', h = h, d = 2 * window_size - 1)\n",
    "            dots += rel_pos\n",
    "\n",
    "        attn = dots.softmax(dim=-1)\n",
    "\n",
    "        out = torch.einsum('bhij,bhjd->bhid', attn, v)\n",
    "        out = rearrange(out, 'b h n d -> b n (h d)')\n",
    "        return self.to_out(out)\n",
    "\n",
    "class SwinTransformer(nn.Module):\n",
    "    def __init__(self, *, num_classes, num_blocks, dim, heads, dim_head, window_size, mlp_dim, channels = 3, dropout = 0., emb_dropout = 0., patch_size = 4, relative_pos_embedding = False):\n",
    "        super().__init__()\n",
    "        self.num_classes = num_classes\n",
    "\n",
    "        self.to_patch_embedding = nn.Sequential(\n",
    "            nn.Conv2d(channels, dim, kernel_size = patch_size, stride = patch_size),\n",
    "            Rearrange('b c h w -> b (h w) c')\n",
    "        )\n",
    "\n",
    "        self.pos_embedding = nn.Parameter(torch.randn(1, (h := (512 // patch_size)) ** 2, dim))\n",
    "        self.patch_size = patch_size\n",
    "\n",
    "        self.dropout = nn.Dropout(emb_dropout)\n",
    "\n",
    "        self.layers = nn.ModuleList([])\n",
    "        for _ in range(num_blocks):\n",
    "            self.layers.append(nn.ModuleList([\n",
    "                TransformerBlock(dim, heads, dim_head, mlp_dim, dropout = dropout),\n",
    "                WindowAttention(dim, heads = heads, dim_head = dim_head, window_size = window_size, relative_pos_embedding = relative_pos_embedding)\n",
    "            ]))\n",
    "\n",
    "        self.mlp_head = nn.Sequential(\n",
    "            nn.LayerNorm(dim),\n",
    "            nn.Linear(dim, num_classes)\n",
    "        )\n",
    "\n",
    "    def forward(self, img):\n",
    "        x = self.to_patch_embedding(img)\n",
    "        b, n, _ = x.shape\n",
    "\n",
    "        pos_embedding = repeat(self.pos_embedding, '() n d -> b n d', b = b)\n",
    "        x += pos_embedding\n",
    "        x = self.dropout(x)\n",
    "\n",
    "        for attn, ff in self.layers:\n",
    "            x = attn(x) + x\n",
    "            x = ff(x) + x\n",
    "\n",
    "        x = x.mean(dim = 1) # global average pooling\n",
    "        return self.mlp_head(x)"
   ]
  }
 ],
 "metadata": {
  "kernelspec": {
   "display_name": "Python 3.8.5 ('ldm')",
   "language": "python",
   "name": "python3"
  },
  "language_info": {
   "codemirror_mode": {
    "name": "ipython",
    "version": 3
   },
   "file_extension": ".py",
   "mimetype": "text/x-python",
   "name": "python",
   "nbconvert_exporter": "python",
   "pygments_lexer": "ipython3",
   "version": "3.8.10"
  },
  "orig_nbformat": 4,
  "vscode": {
   "interpreter": {
    "hash": "587aa04bacead72c1ffd459abbe4c8140b72ba2b534b24165b36a2ede3d95042"
   }
  }
 },
 "nbformat": 4,
 "nbformat_minor": 2
}
